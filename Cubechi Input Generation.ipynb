{
 "cells": [
  {
   "cell_type": "code",
   "execution_count": 1,
   "metadata": {},
   "outputs": [],
   "source": [
    "import numpy as np\n",
    "import glob #this package allows for the searching of files and outputs their filepaths\n",
    "from numpy import char"
   ]
  },
  {
   "cell_type": "code",
   "execution_count": 11,
   "metadata": {},
   "outputs": [],
   "source": [
    "#This script will generate a .txt file of the names of all image cubes\n",
    "ListoNames=glob.glob('/Volumes/REU_2023/Per-emb-8_Models/Extension_Work/IREAndKeplerian/*9.78.fits') #Grab filepaths for all image cubes\n",
    "                                    #Change the filepath above. Make not of the numbers here^\n",
    "                                    #As this is what will ultimatly make sure we select image cubes, not PV diagrams\n",
    "                                    #Change to the relevant number for your model batch, in addition to the directorypath\n",
    "\n",
    "#This section cleans up the glob.glob output\n",
    "for i in range(len(ListoNames)):\n",
    "    if ListoNames[i][0:14] == 'cubechi2/fits/':\n",
    "        ListoNames[i] = ListoNames[i][14:]\n",
    "    elif ListoNames[i][0:9] == 'cubechi2/':\n",
    "        ListoNames[i] = ListoNames[i][9:]\n",
    "ListoNames=np.array(ListoNames) #Send it to an np.array\n",
    "for i in range(len(ListoNames)):\n",
    "    ListoNames[i]='\\n'+ListoNames[i] #Adding a newline character to separate the filepaths out\n",
    "    if ListoNames[i][-1] != 's': #Fixing the missing 's' in 'fits' in some files\n",
    "        temp = '' #The missing s problem is not fully fixed on my machine, so I have to go in manually myself anyways. But maybe it works for you\n",
    "        temp = ListoNames[i]+'s\\n'\n",
    "        ListoNames[i]=temp\n",
    "        \n",
    "        \n",
    "file=open('ListofNames.txt', 'w') #Making a new .txt file to write to\n",
    "for i in range(len(ListoNames)): #Writing all the filepaths with their newline characters to the file\n",
    "    file.writelines(ListoNames[i])\n",
    "file.close() #And done\n",
    "\n",
    "\n",
    "#EDIT FILE TO REMOVE FIRST EMPTY LINE\n",
    "#ALSO, FIND AND REPLACE ALL .fit WITH .fits BUT KEEP THE NEWLINE\n",
    "#Also remove filepath from all files, should just be the actual name of the fits file, no directory\n",
    "#It's just be a find and replace job on a text editor, find all the line from start to last / and delete"
   ]
  },
  {
   "cell_type": "code",
   "execution_count": 9,
   "metadata": {},
   "outputs": [],
   "source": [
    "def TemplateGroup(ModelFilename, ModelFilepath, ObservedFilename, ObservedFilepath, Noise, Cutoff, ObservingArea=np.zeros(5), OffsetVelocity = 0, Weight=0):\n",
    "    '''\n",
    "    This function will write out a complete 'chunk' for the input file for cubechi2, using filenames already made\n",
    "    This is to bypass the issues seen with cubechi2 making filenames already generated, and messing that up\n",
    "    \n",
    "    Inputs\n",
    "    -----------------------\n",
    "    ModelFilename: Single string, filename of the FERIA model cube\n",
    "    ModelFilepath: Single string, take the filepath to the files, starting after /Volumes/. Should end with the last /\n",
    "    ObservedFilename: Single string, observed data being compared to the model.\n",
    "    ObservedFilepath: Single string, observed data filepath starting after /Volumes/. End on / like ModelFilename\n",
    "    OffsetVelocity: Float m/s, How much to adjust the model before comparison for systemic velocity. Should for our case be 0 so defaults(edit: LEAVE IT 0 AT ALL TIMES)\n",
    "    Noise: float Jy/beam, RMS noise level\n",
    "    Cutoff: Threshold to cutoff data below noise level\n",
    "    ObservingArea: 1D array 6 entries, RA, Dec, Velocity min and max values\n",
    "    Weight: Weighting on chi2 calculation, will default to 0(which tells cubechi to figure it out), but setting it manually here is an option also\n",
    "    \n",
    "    Output\n",
    "    -----------------------\n",
    "    8 Line text, properly formatted such that concatination keeps the input file valid. Simply rename to .in, use in cubechi2\n",
    "    '''\n",
    "    \n",
    "    ModelFilenameEdit = ModelFilename[:-6]     #removes .fits from filename\n",
    "    line1 = ModelFilepath + ModelFilenameEdit + '.out\\n' \n",
    "    line2 = ObservedFilepath + ObservedFilename + '\\n'\n",
    "    line3 = ModelFilepath + ModelFilename\n",
    "    line4 = str(OffsetVelocity)+'    # Offset for Systemic Velocity (m/s)\\n'\n",
    "    line5 = str(Noise) + ' ' + str(Cutoff)+'   # rms (Jy/beam), threshold (Jy/beam)\\n'\n",
    "    line6 = str(ObservingArea[0]) + ' ' +  str(ObservingArea[1]) + ' '+ str(ObservingArea[2]) + ' ' + str(ObservingArea[3]) + ' ' + str(ObservingArea[4]) + ' ' + str(ObservingArea[5]) +  '    # Ramin, Ramax, Decmin, Decmax, Vmin, Vmax\\n'\n",
    "    line7 = str(Weight) + '    # Weight // If this value is <=0, weight is calculated\\n' \n",
    "    line8 = '\\n'\n",
    "    CombinedParagraph = line1+line2+line3+line4+line5+line6+line7+line8\n",
    "    return CombinedParagraph\n",
    "    "
   ]
  },
  {
   "cell_type": "code",
   "execution_count": 12,
   "metadata": {},
   "outputs": [],
   "source": [
    "#This script will let you read in the list of filenames, and compile that into a input file form\n",
    "names=open('ListofNames.txt') #Make sure you have done any manual work to this file\n",
    "file=open('Per8ExtensionBlended.txt', 'w') #Change filename to what you will use\n",
    "testsetup=names.readlines()\n",
    "for i in range(len(testsetup)):\n",
    "    paragraph = TemplateGroup(testsetup[i], #Model cube names\n",
    "                              'REU_2023/Per-emb-8_Models/Extension_Work/IREAndKeplerian/', #filepath to model cube\n",
    "                              'Per-emb-8_vel_subcube_centercut.fits', #name of the observed data\n",
    "                              'REU_2023/Per-emb-8_Models/', #filepath of the observed data #NO /VOLUMES/\n",
    "                              .005, #noise\n",
    "                              4*.005, #threshold\n",
    "                              [0,360,-180,180,7933.26,13224.9]) #coordinate stuffs\n",
    "                                                #^these 2^ numbers should change, VMin and VMax in Data Logging Spreadsheet\n",
    "    file.writelines(paragraph)\n",
    "file.close()\n",
    "\n",
    "#Somehow it makes the last entry have the systemic velocity not newline, go to last paragraph and manually hit enter separating the lines. \n",
    "#The first blank line after a paragraph should be on a multiple of 8"
   ]
  },
  {
   "cell_type": "code",
   "execution_count": null,
   "metadata": {},
   "outputs": [],
   "source": []
  }
 ],
 "metadata": {
  "kernelspec": {
   "display_name": "Python 3",
   "language": "python",
   "name": "python3"
  },
  "language_info": {
   "codemirror_mode": {
    "name": "ipython",
    "version": 3
   },
   "file_extension": ".py",
   "mimetype": "text/x-python",
   "name": "python",
   "nbconvert_exporter": "python",
   "pygments_lexer": "ipython3",
   "version": "3.6.5"
  }
 },
 "nbformat": 4,
 "nbformat_minor": 2
}
