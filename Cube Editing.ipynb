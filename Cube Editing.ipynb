{
 "cells": [
  {
   "cell_type": "code",
   "execution_count": 4,
   "metadata": {},
   "outputs": [],
   "source": [
    "from astropy.io import fits\n",
    "import numpy as np\n",
    "import matplotlib.pyplot as plt\n",
    "import astropy as astro"
   ]
  },
  {
   "cell_type": "code",
   "execution_count": 28,
   "metadata": {},
   "outputs": [],
   "source": [
    "inputfile='/Volumes/REU_2023/IC348_Models/IC348_MMS_C18O_natural_cube_vel_subcube.fits' #filepath to observed datacube\n",
    "Cube = fits.getdata(inputfile)\n",
    "Header=fits.getheader(inputfile) #grab header to refill it in new cube\n",
    "\n",
    "VelocityChannels=np.linspace(9891.98,4600.29, 128)\n",
    "#                            VMax,    Vmin     # of channels\n",
    "for i in range(len(VelocityChannels)):\n",
    "    VelocityChannels[i]=np.round(VelocityChannels[i], decimals = 1) #tries to keep velocity channels matching observed decimal requirements\n",
    "\n",
    "#print(VelocityChannels)\n",
    "TruthArray=(VelocityChannels >= 8049.5) & (VelocityChannels <= 9268)\n",
    "#                             Round Down                      Round Up\n",
    "#Set these to be your channel range you want to exclude\n",
    "#I also make sure to round those values either up or down, that way it catches the inclusive part of the channel exclusion range\n",
    "\n",
    "for i in range(len(VelocityChannels)): #Runs through all velocity channels\n",
    "    if TruthArray[i]==True: #Check if it needs to be excluded\n",
    "        Cube[i] = np.zeros((128, 128)) #exclude it\n",
    "        #print(i)"
   ]
  },
  {
   "cell_type": "code",
   "execution_count": 30,
   "metadata": {},
   "outputs": [],
   "source": [
    "hdu = fits.PrimaryHDU(Cube, Header)\n",
    "hdu.writeto('/Volumes/REU_2023/IC348_Models/IC348_vel_subcube_centercut3.fits') #filepath of output pruned cube"
   ]
  },
  {
   "cell_type": "code",
   "execution_count": null,
   "metadata": {},
   "outputs": [],
   "source": []
  },
  {
   "cell_type": "code",
   "execution_count": null,
   "metadata": {},
   "outputs": [],
   "source": []
  }
 ],
 "metadata": {
  "kernelspec": {
   "display_name": "Python 3",
   "language": "python",
   "name": "python3"
  },
  "language_info": {
   "codemirror_mode": {
    "name": "ipython",
    "version": 3
   },
   "file_extension": ".py",
   "mimetype": "text/x-python",
   "name": "python",
   "nbconvert_exporter": "python",
   "pygments_lexer": "ipython3",
   "version": "3.6.5"
  }
 },
 "nbformat": 4,
 "nbformat_minor": 2
}
