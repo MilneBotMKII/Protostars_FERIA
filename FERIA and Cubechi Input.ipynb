{
 "cells": [
  {
   "cell_type": "code",
   "execution_count": 5,
   "metadata": {},
   "outputs": [],
   "source": [
    "#This notebook contains some scripts that are useful for cubechi2 and feria"
   ]
  },
  {
   "cell_type": "code",
   "execution_count": 6,
   "metadata": {},
   "outputs": [],
   "source": [
    "import numpy as np"
   ]
  },
  {
   "cell_type": "code",
   "execution_count": 7,
   "metadata": {},
   "outputs": [],
   "source": [
    "#Load up your lists from Feria\n",
    "#For Keplerian Only sets, Rcb = max value in Rin\n",
    "DList = ['300']\n",
    "MList = ['1.6','1.7','1.8','1.9','2.0','2.1','2.2','2.3','2.4','2.5','2.6','2.7','2.8','2.9','3.0']\n",
    "CBList = ['500.','450.','400.','350.','300.','250.','200.','150.','100.']\n",
    "IList = ['89']\n",
    "PAList = ['57.5']\n",
    "RotList = ['1', '-1']\n",
    "RoutList = ['1000.','900.','800.','700.','600.','500.','400.','300.','200.','100.'] \n",
    "RinList = ['1.', '100.', '200.', '300.'] "
   ]
  },
  {
   "cell_type": "code",
   "execution_count": 8,
   "metadata": {},
   "outputs": [],
   "source": [
    "def numberOfCubes(MassList, RotationList, CentBList, RouterList, RinnerList):\n",
    "    #cubes=len(MassList) * len(RotationList)\n",
    "    cubes = 0\n",
    "    for i in range(len(RouterList)): #Scan through Router\n",
    "        \n",
    "            for j in range(len(RinnerList)): #Scan through Rinner\n",
    "            \n",
    "                if float(RouterList[i]) >= float(RinnerList[j]): #Make sure Rout>Rin\n",
    "                \n",
    "                    for k in range(len(CentBList)): #Scan through CB\n",
    "                        \n",
    "                        if ((float(CentBList[k]) >= float(RinnerList[j])) & (float(CentBList[k])<=float(RouterList[i]))):\n",
    "                            \n",
    "                            cubes+=1\n",
    "                            \n",
    "                        else:\n",
    "                            pass\n",
    "                else:\n",
    "                    pass\n",
    "    else:\n",
    "          pass\n",
    "                            \n",
    "                        \n",
    "                \n",
    "                \n",
    "    \n",
    "    \n",
    "    \n",
    "    \n",
    "    cubes = cubes * len(MassList) * len(RotationList)\n",
    "    return cubes"
   ]
  },
  {
   "cell_type": "code",
   "execution_count": 9,
   "metadata": {},
   "outputs": [],
   "source": [
    "def falseNumberOfCubes(MassList, RotationList, CentBList, RouterList, RinnerList):\n",
    "    return(len(MassList)*len(RotationList)*len(CentBList)*len(RouterList)*len(RinnerList))"
   ]
  },
  {
   "cell_type": "code",
   "execution_count": 10,
   "metadata": {},
   "outputs": [
    {
     "name": "stdout",
     "output_type": "stream",
     "text": [
      "The correct number of cubes is  6750\n",
      "Feria will say there is  10800\n",
      "That is a reduction of  37.5 %\n",
      "At roughly 8.4MB per cube, there will need to be storage for  56700.0 MB, or  0.0567 TB\n",
      "At roughly 10 seconds per cube, this will take  67500 seconds or  1125.0 minutes to complete\n"
     ]
    }
   ],
   "source": [
    "#This cell will print off all the information\n",
    "\n",
    "print('The correct number of cubes is ',numberOfCubes(MList, RotList, CBList, RoutList, RinList))\n",
    "print('Feria will say there is ',falseNumberOfCubes(MList, RotList, CBList, RoutList, RinList))\n",
    "print('That is a reduction of ', (100*(1-(numberOfCubes(MList, RotList, CBList, RoutList, RinList)/falseNumberOfCubes(MList, RotList, CBList, RoutList, RinList)))), '%')\n",
    "print('At roughly 8.4MB per cube, there will need to be storage for ', numberOfCubes(MList, RotList, CBList, RoutList, RinList)*8.4,'MB, or ', np.round(numberOfCubes(MList, RotList, CBList, RoutList, RinList)*8.4 * 10**(-6), 6), 'TB')\n",
    "print('At roughly 10 seconds per cube, this will take ', numberOfCubes(MList, RotList, CBList, RoutList, RinList) * 10, 'seconds or ', numberOfCubes(MList, RotList, CBList, RoutList, RinList) * 10/60, 'minutes to complete')\n"
   ]
  },
  {
   "cell_type": "markdown",
   "metadata": {},
   "source": [
    "This is the handeling of the input files"
   ]
  },
  {
   "cell_type": "code",
   "execution_count": 13,
   "metadata": {},
   "outputs": [],
   "source": [
    "#This script will generate a .txt file of the names of all image cubes\n",
    "\n",
    "import glob #this package allows for the searching of files and outputs their filepaths\n",
    "from numpy import char\n",
    "ListoNames=glob.glob('/Volumes/REU_2023/Per-emb-8_Models/Per-emb-8_Odd_MList_REDO/IREOnly/*9.78.fits') #Grab filepaths for all image cubes\n",
    "for i in range(len(ListoNames)):\n",
    "    if ListoNames[i][0:14] == 'cubechi2/fits/':\n",
    "        ListoNames[i] = ListoNames[i][14:]\n",
    "    elif ListoNames[i][0:9] == 'cubechi2/':\n",
    "        ListoNames[i] = ListoNames[i][9:]\n",
    "ListoNames=np.array(ListoNames) #Send it to an np.array\n",
    "for i in range(len(ListoNames)):\n",
    "    ListoNames[i]='\\n'+ListoNames[i] #Adding a newline character to separate the filepaths out\n",
    "    if ListoNames[i][-1] != 's': #Fixing the missing 's' in 'fits' in some files\n",
    "        temp = ''\n",
    "        temp = ListoNames[i]+'s\\n'\n",
    "        ListoNames[i]=temp\n",
    "        #print(ListoNames[i], temp)\n",
    "file=open('ListofNames.txt', 'w') #Making a new .txt file to write to\n",
    "for i in range(len(ListoNames)): #Writing all the filepaths with their newline characters to the file\n",
    "    file.writelines(ListoNames[i])\n",
    "file.close() #And done\n",
    "\n",
    "\n",
    "#EDIT FILE TO REMOVE FIRST EMPTY LINE\n",
    "#ALSO, FIND AND REPLACE ALL .fit WITH .fits BUT KEEP THE MASSSIVE NEWLINE i.e. COPY FROM START OF NEXT NAME TO THE . IN .fits\n",
    "#Also remove filepath from all files, should just be the actual name of the fits file, no directory\n",
    "#...20.25.fits%%%%%%%%%%%%%%%%%%%%%%%%%%%%%%%%%%%%\n",
    "#%PER-EMB... THE % SHOULD BE SELECTED SPACES"
   ]
  },
  {
   "cell_type": "code",
   "execution_count": 9,
   "metadata": {},
   "outputs": [],
   "source": [
    "def TemplateGroup(ModelFilename, ModelFilepath, ObservedFilename, ObservedFilepath, Noise, Cutoff, ObservingArea=np.zeros(5), OffsetVelocity = 0, Weight=0):\n",
    "    '''\n",
    "    This function will write out a complete 'chunk' for the input file for cubechi2, using filenames already made\n",
    "    This is to bypass the issues seen with cubechi2 making filenames already generated, and messing that up\n",
    "    \n",
    "    Inputs\n",
    "    -----------------------\n",
    "    ModelFilename: Single string, filename of the FERIA model cube\n",
    "    ModelFilepath: Single string, take the filepath to the files, starting after /Volumes/. Should end with the last /\n",
    "    ObservedFilename: Single string, observed data being compared to the model.\n",
    "    ObservedFilepath: Single string, observed data filepath starting after /Volumes/. End on / like ModelFilename\n",
    "    OffsetVelocity: Float m/s, How much to adjust the model before comparison for systemic velocity. Should for our case be 0 so defaults(edit: LEAVE IT 0 AT ALL TIMES)\n",
    "    Noise: float Jy/beam, RMS noise level\n",
    "    Cutoff: Threshold to cutoff data below noise level\n",
    "    ObservingArea: 1D array 6 entries, RA, Dec, Velocity min and max values\n",
    "    Weight: Weighting on chi2 calculation, will default to 0(which tells cubechi to figure it out), but setting it manually here is an option also\n",
    "    \n",
    "    Output\n",
    "    -----------------------\n",
    "    8 Line text, properly formatted such that concatination keeps the input file valid. Simply rename to .in, use in cubechi2\n",
    "    '''\n",
    "    \n",
    "    ModelFilenameEdit = ModelFilename[:-6]     #removes .fits from filename\n",
    "    line1 = ModelFilepath + ModelFilenameEdit + '.out\\n' \n",
    "    line2 = ObservedFilepath + ObservedFilename + '\\n'\n",
    "    line3 = ModelFilepath + ModelFilename\n",
    "    line4 = str(OffsetVelocity)+'    # Offset for Systemic Velocity (m/s)\\n'\n",
    "    line5 = str(Noise) + ' ' + str(Cutoff)+'   # rms (Jy/beam), threshold (Jy/beam)\\n'\n",
    "    line6 = str(ObservingArea[0]) + ' ' +  str(ObservingArea[1]) + ' '+ str(ObservingArea[2]) + ' ' + str(ObservingArea[3]) + ' ' + str(ObservingArea[4]) + ' ' + str(ObservingArea[5]) +  '    # Ramin, Ramax, Decmin, Decmax, Vmin, Vmax\\n'\n",
    "    line7 = str(Weight) + '    # Weight // If this value is <=0, weight is calculated\\n' \n",
    "    line8 = '\\n'\n",
    "    CombinedParagraph = line1+line2+line3+line4+line5+line6+line7+line8\n",
    "    return CombinedParagraph\n",
    "    "
   ]
  },
  {
   "cell_type": "code",
   "execution_count": 14,
   "metadata": {},
   "outputs": [],
   "source": [
    "#This script will let you read in the list of filenames, and compile that into a input file form\n",
    "names=open('ListofNames.txt')\n",
    "file=open('Per8MassCenterIREREDO.txt', 'w')\n",
    "testsetup=names.readlines()\n",
    "for i in range(len(testsetup)):\n",
    "    paragraph = TemplateGroup(testsetup[i], #Model cube name\n",
    "                              'REU_2023/Per-emb-8_Models/Per-emb-8_Odd_MList_REDO/IREOnly/', #filepath to model cube\n",
    "                              'Per-emb-8_vel_subcube_centercut.fits', #name of the observed data\n",
    "                              'REU_2023/Per-emb-8_Models/', #filepath of the observed data #NO /VOLUMES/\n",
    "                              .005, #noise\n",
    "                              4*.005, #threshold\n",
    "                              [0,360,-180,180,7933.26,13224.9]) #coordinate stuffs\n",
    "                                                #^these 2^ numbers should change, VMin and VMax in Data Logging Spreadsheet\n",
    "    file.writelines(paragraph)\n",
    "file.close()\n",
    "\n",
    "#Somehow it makes the last entry have the systemic velocity move up a line, go to last paragraph and manually\n",
    "#hit enter separating the lines. The first blank line after a paragraph should be on a multiple of 8\n",
    "\n",
    "#Also, make sure for input modelcube to add 'fits/' in front of the filename in texteditor"
   ]
  },
  {
   "cell_type": "code",
   "execution_count": null,
   "metadata": {},
   "outputs": [],
   "source": []
  }
 ],
 "metadata": {
  "kernelspec": {
   "display_name": "Python 3",
   "language": "python",
   "name": "python3"
  },
  "language_info": {
   "codemirror_mode": {
    "name": "ipython",
    "version": 3
   },
   "file_extension": ".py",
   "mimetype": "text/x-python",
   "name": "python",
   "nbconvert_exporter": "python",
   "pygments_lexer": "ipython3",
   "version": "3.6.5"
  }
 },
 "nbformat": 4,
 "nbformat_minor": 2
}
